{
 "cells": [
  {
   "cell_type": "code",
   "execution_count": 86,
   "metadata": {},
   "outputs": [
    {
     "name": "stdout",
     "output_type": "stream",
     "text": [
      "\u001b[32;1m\u001b[1;3m[llm/start]\u001b[0m \u001b[1m[1:llm:ChatOpenAI] Entering LLM run with input:\n",
      "\u001b[0m{\n",
      "  \"prompts\": [\n",
      "    \"Human: 이탈리아 파스타는 어떻게 만드나요?.\"\n",
      "  ]\n",
      "}\n",
      "\u001b[36;1m\u001b[1;3m[llm/end]\u001b[0m \u001b[1m[1:llm:ChatOpenAI] [3.44s] Exiting LLM run with output:\n",
      "\u001b[0m{\n",
      "  \"generations\": [\n",
      "    [\n",
      "      {\n",
      "        \"text\": \"이탈리아 파스타를 만드는 방법은 다양하지만, 전통적인 방법은 다음과 같습니다.\\n\\n1. 물에 소금을 넣고 끓는 물에 파스타를 넣어 삶습니다. 삶는 시간은 각 종류마다 다르므로 포장지에 적힌 시간을 참고하세요.\\n\\n2. 파스타를 삶는 동안, 별도의 팬에 올리브 오일을 데워 다양한 재료를 넣어 소스를 만듭니다. 예를 들어, 마늘, 양파, 토마토, 바질, 올리브, 마른 햄, 새우 등을 사용할 수 있습니다.\\n\\n3. 삶은 파스타를 물기를 제거하고 소스와 섞어줍니다. 소스가 파스타에 골고루 베이도록 잘 섞어주세요.\\n\\n4. 접시에 담아서 파마산 치즈나 파슬리를 곁들여 마무리합니다.\\n\\n이처럼 이탈리아 파스타는 간단하지만 다양한 소스와 재료를 활용하여 맛을 더할 수 있습니다. 원하는 재료와 소스를 활용하여 자신만의 파스타를 만들어보세요.\",\n",
      "        \"generation_info\": {\n",
      "          \"finish_reason\": \"stop\"\n",
      "        },\n",
      "        \"type\": \"ChatGeneration\",\n",
      "        \"message\": {\n",
      "          \"lc\": 1,\n",
      "          \"type\": \"constructor\",\n",
      "          \"id\": [\n",
      "            \"langchain\",\n",
      "            \"schema\",\n",
      "            \"messages\",\n",
      "            \"AIMessage\"\n",
      "          ],\n",
      "          \"kwargs\": {\n",
      "            \"content\": \"이탈리아 파스타를 만드는 방법은 다양하지만, 전통적인 방법은 다음과 같습니다.\\n\\n1. 물에 소금을 넣고 끓는 물에 파스타를 넣어 삶습니다. 삶는 시간은 각 종류마다 다르므로 포장지에 적힌 시간을 참고하세요.\\n\\n2. 파스타를 삶는 동안, 별도의 팬에 올리브 오일을 데워 다양한 재료를 넣어 소스를 만듭니다. 예를 들어, 마늘, 양파, 토마토, 바질, 올리브, 마른 햄, 새우 등을 사용할 수 있습니다.\\n\\n3. 삶은 파스타를 물기를 제거하고 소스와 섞어줍니다. 소스가 파스타에 골고루 베이도록 잘 섞어주세요.\\n\\n4. 접시에 담아서 파마산 치즈나 파슬리를 곁들여 마무리합니다.\\n\\n이처럼 이탈리아 파스타는 간단하지만 다양한 소스와 재료를 활용하여 맛을 더할 수 있습니다. 원하는 재료와 소스를 활용하여 자신만의 파스타를 만들어보세요.\",\n",
      "            \"additional_kwargs\": {}\n",
      "          }\n",
      "        }\n",
      "      }\n",
      "    ]\n",
      "  ],\n",
      "  \"llm_output\": {\n",
      "    \"token_usage\": {\n",
      "      \"prompt_tokens\": 28,\n",
      "      \"completion_tokens\": 385,\n",
      "      \"total_tokens\": 413,\n",
      "      \"prompt_tokens_details\": {\n",
      "        \"cached_tokens\": 0,\n",
      "        \"audio_tokens\": 0\n",
      "      },\n",
      "      \"completion_tokens_details\": {\n",
      "        \"reasoning_tokens\": 0,\n",
      "        \"audio_tokens\": 0,\n",
      "        \"accepted_prediction_tokens\": 0,\n",
      "        \"rejected_prediction_tokens\": 0\n",
      "      }\n",
      "    },\n",
      "    \"model_name\": \"gpt-3.5-turbo\",\n",
      "    \"system_fingerprint\": null\n",
      "  },\n",
      "  \"run\": null\n",
      "}\n"
     ]
    },
    {
     "data": {
      "text/plain": [
       "'이탈리아 파스타를 만드는 방법은 다양하지만, 전통적인 방법은 다음과 같습니다.\\n\\n1. 물에 소금을 넣고 끓는 물에 파스타를 넣어 삶습니다. 삶는 시간은 각 종류마다 다르므로 포장지에 적힌 시간을 참고하세요.\\n\\n2. 파스타를 삶는 동안, 별도의 팬에 올리브 오일을 데워 다양한 재료를 넣어 소스를 만듭니다. 예를 들어, 마늘, 양파, 토마토, 바질, 올리브, 마른 햄, 새우 등을 사용할 수 있습니다.\\n\\n3. 삶은 파스타를 물기를 제거하고 소스와 섞어줍니다. 소스가 파스타에 골고루 베이도록 잘 섞어주세요.\\n\\n4. 접시에 담아서 파마산 치즈나 파슬리를 곁들여 마무리합니다.\\n\\n이처럼 이탈리아 파스타는 간단하지만 다양한 소스와 재료를 활용하여 맛을 더할 수 있습니다. 원하는 재료와 소스를 활용하여 자신만의 파스타를 만들어보세요.'"
      ]
     },
     "execution_count": 86,
     "metadata": {},
     "output_type": "execute_result"
    }
   ],
   "source": [
    "from langchain.chat_models import ChatOpenAI\n",
    "from langchain.callbacks import StreamingStdOutCallbackHandler\n",
    "from langchain.globals import set_llm_cache, set_debug\n",
    "from langchain.cache import InMemoryCache , SQLiteCache\n",
    "\n",
    "# set_llm_cache(InMemoryCache())  # 모든 cache data가 memory 안에 저장됨.\n",
    "set_llm_cache(SQLiteCache(\"cache.db\"))\n",
    "set_debug(True) \n",
    "\n",
    "chat = ChatOpenAI(\n",
    "    model=\"gpt-3.5-turbo\",\n",
    "    temperature=0.1,\n",
    "    # streaming=True,\n",
    "    # callbacks=[StreamingStdOutCallbackHandler()]\n",
    ")\n",
    "\n",
    "chat.predict(\"이탈리아 파스타는 어떻게 만드나요?.\")"
   ]
  },
  {
   "cell_type": "code",
   "execution_count": 87,
   "metadata": {},
   "outputs": [
    {
     "name": "stdout",
     "output_type": "stream",
     "text": [
      "\u001b[32;1m\u001b[1;3m[llm/start]\u001b[0m \u001b[1m[1:llm:ChatOpenAI] Entering LLM run with input:\n",
      "\u001b[0m{\n",
      "  \"prompts\": [\n",
      "    \"Human: 이탈리아 파스타는 어떻게 만드나요?.\"\n",
      "  ]\n",
      "}\n",
      "\u001b[36;1m\u001b[1;3m[llm/end]\u001b[0m \u001b[1m[1:llm:ChatOpenAI] [2ms] Exiting LLM run with output:\n",
      "\u001b[0m{\n",
      "  \"generations\": [\n",
      "    [\n",
      "      {\n",
      "        \"text\": \"이탈리아 파스타를 만드는 방법은 다양하지만, 전통적인 방법은 다음과 같습니다.\\n\\n1. 물에 소금을 넣고 끓는 물에 파스타를 넣어 삶습니다. 삶는 시간은 각 종류마다 다르므로 포장지에 적힌 시간을 참고하세요.\\n\\n2. 파스타를 삶는 동안, 별도의 팬에 올리브 오일을 데워 다양한 재료를 넣어 소스를 만듭니다. 예를 들어, 마늘, 양파, 토마토, 바질, 올리브, 마른 햄, 새우 등을 사용할 수 있습니다.\\n\\n3. 삶은 파스타를 물기를 제거하고 소스와 섞어줍니다. 소스가 파스타에 골고루 베이도록 잘 섞어주세요.\\n\\n4. 접시에 담아서 파마산 치즈나 파슬리를 곁들여 마무리합니다.\\n\\n이처럼 이탈리아 파스타는 간단하지만 다양한 소스와 재료를 활용하여 맛을 더할 수 있습니다. 원하는 재료와 소스를 활용하여 자신만의 파스타를 만들어보세요.\",\n",
      "        \"generation_info\": {\n",
      "          \"finish_reason\": \"stop\"\n",
      "        },\n",
      "        \"type\": \"ChatGeneration\",\n",
      "        \"message\": {\n",
      "          \"lc\": 1,\n",
      "          \"type\": \"constructor\",\n",
      "          \"id\": [\n",
      "            \"langchain\",\n",
      "            \"schema\",\n",
      "            \"messages\",\n",
      "            \"AIMessage\"\n",
      "          ],\n",
      "          \"kwargs\": {\n",
      "            \"content\": \"이탈리아 파스타를 만드는 방법은 다양하지만, 전통적인 방법은 다음과 같습니다.\\n\\n1. 물에 소금을 넣고 끓는 물에 파스타를 넣어 삶습니다. 삶는 시간은 각 종류마다 다르므로 포장지에 적힌 시간을 참고하세요.\\n\\n2. 파스타를 삶는 동안, 별도의 팬에 올리브 오일을 데워 다양한 재료를 넣어 소스를 만듭니다. 예를 들어, 마늘, 양파, 토마토, 바질, 올리브, 마른 햄, 새우 등을 사용할 수 있습니다.\\n\\n3. 삶은 파스타를 물기를 제거하고 소스와 섞어줍니다. 소스가 파스타에 골고루 베이도록 잘 섞어주세요.\\n\\n4. 접시에 담아서 파마산 치즈나 파슬리를 곁들여 마무리합니다.\\n\\n이처럼 이탈리아 파스타는 간단하지만 다양한 소스와 재료를 활용하여 맛을 더할 수 있습니다. 원하는 재료와 소스를 활용하여 자신만의 파스타를 만들어보세요.\",\n",
      "            \"additional_kwargs\": {}\n",
      "          }\n",
      "        }\n",
      "      }\n",
      "    ]\n",
      "  ],\n",
      "  \"llm_output\": null,\n",
      "  \"run\": null\n",
      "}\n"
     ]
    },
    {
     "data": {
      "text/plain": [
       "'이탈리아 파스타를 만드는 방법은 다양하지만, 전통적인 방법은 다음과 같습니다.\\n\\n1. 물에 소금을 넣고 끓는 물에 파스타를 넣어 삶습니다. 삶는 시간은 각 종류마다 다르므로 포장지에 적힌 시간을 참고하세요.\\n\\n2. 파스타를 삶는 동안, 별도의 팬에 올리브 오일을 데워 다양한 재료를 넣어 소스를 만듭니다. 예를 들어, 마늘, 양파, 토마토, 바질, 올리브, 마른 햄, 새우 등을 사용할 수 있습니다.\\n\\n3. 삶은 파스타를 물기를 제거하고 소스와 섞어줍니다. 소스가 파스타에 골고루 베이도록 잘 섞어주세요.\\n\\n4. 접시에 담아서 파마산 치즈나 파슬리를 곁들여 마무리합니다.\\n\\n이처럼 이탈리아 파스타는 간단하지만 다양한 소스와 재료를 활용하여 맛을 더할 수 있습니다. 원하는 재료와 소스를 활용하여 자신만의 파스타를 만들어보세요.'"
      ]
     },
     "execution_count": 87,
     "metadata": {},
     "output_type": "execute_result"
    }
   ],
   "source": [
    "chat.predict(\"이탈리아 파스타는 어떻게 만드나요?.\") # 계속된 같은 답변에 캐싱된 데이터를 바로 전달!"
   ]
  }
 ],
 "metadata": {
  "kernelspec": {
   "display_name": "env",
   "language": "python",
   "name": "python3"
  },
  "language_info": {
   "codemirror_mode": {
    "name": "ipython",
    "version": 3
   },
   "file_extension": ".py",
   "mimetype": "text/x-python",
   "name": "python",
   "nbconvert_exporter": "python",
   "pygments_lexer": "ipython3",
   "version": "3.11.7"
  }
 },
 "nbformat": 4,
 "nbformat_minor": 2
}
