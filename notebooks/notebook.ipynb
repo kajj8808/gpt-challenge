{
 "cells": [
  {
   "cell_type": "code",
   "execution_count": 112,
   "metadata": {},
   "outputs": [],
   "source": [
    "from langchain.chat_models import ChatOpenAI\n",
    "from langchain.callbacks import StreamingStdOutCallbackHandler\n",
    "from langchain.prompts import ChatPromptTemplate\n",
    "\n",
    "chat = ChatOpenAI(\n",
    "    model=\"gpt-3.5-turbo\",\n",
    "    temperature=0.1,\n",
    "    streaming=True,\n",
    "    callbacks=[StreamingStdOutCallbackHandler()]\n",
    ")"
   ]
  },
  {
   "cell_type": "code",
   "execution_count": null,
   "metadata": {},
   "outputs": [],
   "source": [
    "poet_prompt = ChatPromptTemplate.from_messages([\n",
    "    (\"system\", \"당신은 프로그래밍 언어에 대한 시를 쓰는 시인입니다. 주어진 언어를 주제로 시를 작성해주세요.\"),\n",
    "    (\"human\", \"{theme}\"),\n",
    "])\n",
    "\n",
    "poet_chain = poet_prompt | chat"
   ]
  },
  {
   "cell_type": "code",
   "execution_count": 90,
   "metadata": {},
   "outputs": [],
   "source": [
    "poetry_explainer_prompt = ChatPromptTemplate.from_messages([\n",
    "    (\"system\", \"당신은 문학 전문가입니다. 주어진 시를 분석하고 설명해주세요.\"),\n",
    "    (\"human\", \"{poem}\")\n",
    "])\n",
    "\n",
    "poetry_explainer_chain = poetry_explainer_prompt | chat"
   ]
  },
  {
   "cell_type": "code",
   "execution_count": null,
   "metadata": {},
   "outputs": [
    {
     "name": "stdout",
     "output_type": "stream",
     "text": [
      "자바스크립트의 세계는 넓고 깊다  \n",
      "변수와 함수가 매듭처럼 얽혀  \n",
      "화면을 빛내는 코드의 춤을 춘다  \n",
      "\n",
      "클릭과 호버, 애니메이션의 향연  \n",
      "이 모든 것을 이끄는 건  \n",
      "개발자의 상상력과 열정  \n",
      "\n",
      "객체와 배열이 맺는 유대  \n",
      "데이터의 흐름을 읽는 눈은  \n",
      "미래를 예측하는 예언자  \n",
      "\n",
      "자바스크립트의 세계는 아름답다  \n",
      "한 줄의 코드가 만들어내는  \n",
      "놀라운 마법 속으로 초대한다주어진 시는 자바스크립트 프로그래밍 언어에 대한 찬사와 사랑을 담은 시입니다. 시인은 자바스크립트의 세계를 넓고 깊다고 표현하며, 변수와 함수가 매듭처럼 얽혀 화면을 빛내는 코드의 춤을 춘다고 묘사합니다. 또한 클릭과 호버, 애니메이션의 향연을 개발자의 상상력과 열정이 이끈다고 표현하며, 객체와 배열이 맺는 유대와 데이터의 흐름을 읽는 눈이 미래를 예측하는 예언자라고 묘사합니다.\n",
      "\n",
      "시인은 자바스크립트의 세계를 아름답다고 표현하며, 한 줄의 코드가 만들어내는 놀라운 마법 속으로 초대한다고 표현합니다. 이 시는 자바스크립트 프로그래밍의 매력과 힘, 그리고 개발자의 창의력과 열정을 표현한 것으로 해석할 수 있습니다."
     ]
    }
   ],
   "source": [
    "final_chain = {\"poem\":  poet_chain} | poetry_explainer_chain\n",
    "\n",
    "result = final_chain.invoke({\n",
    "    \"theme\": \"파이썬\"\n",
    "})"
   ]
  }
 ],
 "metadata": {
  "kernelspec": {
   "display_name": "env",
   "language": "python",
   "name": "python3"
  },
  "language_info": {
   "codemirror_mode": {
    "name": "ipython",
    "version": 3
   },
   "file_extension": ".py",
   "mimetype": "text/x-python",
   "name": "python",
   "nbconvert_exporter": "python",
   "pygments_lexer": "ipython3",
   "version": "3.11.7"
  }
 },
 "nbformat": 4,
 "nbformat_minor": 2
}
