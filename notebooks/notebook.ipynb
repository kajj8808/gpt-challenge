{
 "cells": [
  {
   "cell_type": "code",
   "execution_count": 16,
   "metadata": {},
   "outputs": [],
   "source": [
    "from langchain.chat_models import ChatOpenAI\n",
    "from langchain.callbacks import StreamingStdOutCallbackHandler\n",
    "from langchain.prompts.few_shot import FewShotChatMessagePromptTemplate\n",
    "from langchain.prompts import ChatPromptTemplate\n",
    "\n",
    "chat = ChatOpenAI(\n",
    "    model=\"gpt-3.5-turbo\",\n",
    "    temperature=0.1,\n",
    "    streaming=True,\n",
    "    callbacks=[StreamingStdOutCallbackHandler()]\n",
    ")"
   ]
  },
  {
   "cell_type": "code",
   "execution_count": 22,
   "metadata": {},
   "outputs": [],
   "source": [
    "# 생성된 샘플\n",
    "examples = [\n",
    "    {\n",
    "        \"movie\": \"Eternal Symphony\",\n",
    "        \"answer\": \"\"\"\n",
    "        Here is what I know:\n",
    "        Director: Claire Howard\n",
    "        Cast: Emma Stone, Tom Hardy\n",
    "        Budget: $70,000,000\n",
    "        Box Office: $210,000,000\n",
    "        Genre: Drama, Fantasy\n",
    "        Synopsis: A pianist with amnesia searches for a melody tied to their past in a mystical city.\n",
    "        \"\"\"\n",
    "    },\n",
    "    {\n",
    "        \"movie\": \"Starlight Horizon\",\n",
    "        \"answer\": \"\"\"\n",
    "        Here is what I know:\n",
    "        Director: Ian Lee\n",
    "        Cast: John Boyega, Lupita Nyong'o\n",
    "        Budget: $90,000,000\n",
    "        Box Office: $350,000,000\n",
    "        Genre: Sci-Fi, Action\n",
    "        Synopsis: A global team fights to stop an alien invasion in this sci-fi blockbuster.\n",
    "        \"\"\"\n",
    "    },\n",
    "    {\n",
    "        \"movie\": \"Crimson Echoes\",\n",
    "        \"answer\": \"\"\"\n",
    "        Here is what I know:\n",
    "        Director: Sophia Delmar\n",
    "        Cast: Keanu Reeves, Zendaya\n",
    "        Budget: $60,000,000\n",
    "        Box Office: $180,000,000\n",
    "        Genre: Thriller, Mystery\n",
    "        Synopsis: A retired detective and a mysterious girl unravel a series of murders in a city.\n",
    "        \"\"\"\n",
    "    },\n",
    "]"
   ]
  },
  {
   "cell_type": "code",
   "execution_count": null,
   "metadata": {},
   "outputs": [
    {
     "name": "stdout",
     "output_type": "stream",
     "text": [
      "\n",
      "        Here is what I know:\n",
      "        Director: Jon Favreau\n",
      "        Cast: Robert Downey Jr., Gwyneth Paltrow\n",
      "        Budget: $140,000,000\n",
      "        Box Office: $585,000,000\n",
      "        Genre: Action, Sci-Fi\n",
      "        Synopsis: Billionaire inventor Tony Stark builds a powered suit of armor to fight evil forces.\n",
      "        "
     ]
    },
    {
     "data": {
      "text/plain": [
       "AIMessageChunk(content='\\n        Here is what I know:\\n        Director: Jon Favreau\\n        Cast: Robert Downey Jr., Gwyneth Paltrow\\n        Budget: $140,000,000\\n        Box Office: $585,000,000\\n        Genre: Action, Sci-Fi\\n        Synopsis: Billionaire inventor Tony Stark builds a powered suit of armor to fight evil forces.\\n        ')"
      ]
     },
     "execution_count": 26,
     "metadata": {},
     "output_type": "execute_result"
    }
   ],
   "source": [
    "\n",
    "example_prompt = ChatPromptTemplate.from_messages([\n",
    "    (\"human\", \"What do you know about the movie {movie}?\"),\n",
    "    (\"ai\", \"{answer}\")\n",
    "])\n",
    "example_prompt = FewShotChatMessagePromptTemplate(\n",
    "    example_prompt=example_prompt,\n",
    "    examples=examples\n",
    ")\n",
    "# you give short answers. <- 할루시네이션 방지.\n",
    "final_prompt = ChatPromptTemplate.from_messages([\n",
    "    (\"system\", \"You are a movie expert, you give short answers.\"),\n",
    "    example_prompt,\n",
    "    (\"human\", \"What do you know about the movie {movie}?\")\n",
    "])\n",
    "\n",
    "chain = final_prompt | chat\n",
    "\n",
    "chain.invoke(\n",
    "    {\n",
    "        \"movie\": \"Iron man\"\n",
    "    }\n",
    ")"
   ]
  }
 ],
 "metadata": {
  "kernelspec": {
   "display_name": "env",
   "language": "python",
   "name": "python3"
  },
  "language_info": {
   "codemirror_mode": {
    "name": "ipython",
    "version": 3
   },
   "file_extension": ".py",
   "mimetype": "text/x-python",
   "name": "python",
   "nbconvert_exporter": "python",
   "pygments_lexer": "ipython3",
   "version": "3.11.7"
  }
 },
 "nbformat": 4,
 "nbformat_minor": 2
}
