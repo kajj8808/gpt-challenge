{
 "cells": [
  {
   "cell_type": "code",
   "execution_count": 1,
   "metadata": {},
   "outputs": [
    {
     "name": "stderr",
     "output_type": "stream",
     "text": [
      "Created a chunk of size 717, which is longer than the specified 600\n",
      "Created a chunk of size 608, which is longer than the specified 600\n",
      "Created a chunk of size 642, which is longer than the specified 600\n",
      "Created a chunk of size 1444, which is longer than the specified 600\n",
      "Created a chunk of size 1251, which is longer than the specified 600\n",
      "Created a chunk of size 1012, which is longer than the specified 600\n",
      "Created a chunk of size 1493, which is longer than the specified 600\n",
      "Created a chunk of size 819, which is longer than the specified 600\n",
      "Created a chunk of size 1458, which is longer than the specified 600\n",
      "Created a chunk of size 1411, which is longer than the specified 600\n",
      "Created a chunk of size 742, which is longer than the specified 600\n",
      "Created a chunk of size 669, which is longer than the specified 600\n",
      "Created a chunk of size 906, which is longer than the specified 600\n",
      "Created a chunk of size 703, which is longer than the specified 600\n",
      "Created a chunk of size 1137, which is longer than the specified 600\n",
      "Created a chunk of size 1417, which is longer than the specified 600\n",
      "Created a chunk of size 1200, which is longer than the specified 600\n",
      "Created a chunk of size 859, which is longer than the specified 600\n",
      "Created a chunk of size 845, which is longer than the specified 600\n",
      "Created a chunk of size 716, which is longer than the specified 600\n",
      "Created a chunk of size 840, which is longer than the specified 600\n",
      "Created a chunk of size 1042, which is longer than the specified 600\n",
      "Created a chunk of size 652, which is longer than the specified 600\n",
      "Created a chunk of size 985, which is longer than the specified 600\n",
      "Created a chunk of size 859, which is longer than the specified 600\n",
      "Created a chunk of size 659, which is longer than the specified 600\n",
      "Created a chunk of size 693, which is longer than the specified 600\n",
      "Created a chunk of size 817, which is longer than the specified 600\n",
      "Created a chunk of size 655, which is longer than the specified 600\n",
      "Created a chunk of size 1345, which is longer than the specified 600\n",
      "Created a chunk of size 1339, which is longer than the specified 600\n",
      "Created a chunk of size 1288, which is longer than the specified 600\n",
      "Created a chunk of size 1014, which is longer than the specified 600\n",
      "Created a chunk of size 617, which is longer than the specified 600\n",
      "Created a chunk of size 617, which is longer than the specified 600\n",
      "Created a chunk of size 1178, which is longer than the specified 600\n",
      "Created a chunk of size 1444, which is longer than the specified 600\n",
      "Created a chunk of size 802, which is longer than the specified 600\n",
      "Created a chunk of size 1496, which is longer than the specified 600\n",
      "Created a chunk of size 841, which is longer than the specified 600\n",
      "Created a chunk of size 743, which is longer than the specified 600\n",
      "Created a chunk of size 694, which is longer than the specified 600\n"
     ]
    }
   ],
   "source": [
    "from langchain.document_loaders import UnstructuredFileLoader\n",
    "from langchain.text_splitter import CharacterTextSplitter\n",
    "from langchain.embeddings import OpenAIEmbeddings, CacheBackedEmbeddings\n",
    "from langchain.storage import LocalFileStore\n",
    "from langchain.vectorstores import Chroma , FAISS\n",
    "from langchain.prompts import ChatPromptTemplate, MessagesPlaceholder\n",
    "from langchain.chat_models import ChatOpenAI\n",
    "from langchain.schema.runnable import RunnablePassthrough, RunnableLambda\n",
    "from langchain.memory import ConversationBufferMemory\n",
    "\n",
    "# memory선언 (ConversationBufferMemory)\n",
    "memory = ConversationBufferMemory(return_messages=True)\n",
    "\n",
    "# memory에서 history 가져오는 부분 (history=> 기본 memory_key)\n",
    "def load_memory(_):\n",
    "    return memory.load_memory_variables({})[\"history\"]\n",
    "\n",
    "\n",
    "# 1. 파일 로드 (loader => UnstructuredFileLoader , spliter => CharacterTextSplitter)\n",
    "loader = UnstructuredFileLoader(\"../files/document.txt\")\n",
    "splitter = CharacterTextSplitter(\n",
    "    chunk_size=600,\n",
    "    chunk_overlap=100,\n",
    ")\n",
    "docs = loader.load_and_split(\n",
    "    text_splitter=splitter,\n",
    ")\n",
    "\n",
    "# 2. Embedding + cache 작업 (vector를 매기는 작업 + local에 cache로 저장)\n",
    "cache_dir = LocalFileStore(\"../cache/\")\n",
    "embeddings = OpenAIEmbeddings()\n",
    "cached_embeddings = CacheBackedEmbeddings.from_bytes_store(\n",
    "    embeddings, cache_dir\n",
    ")\n",
    "\n",
    "# 3. vector store를 통해 prompt에 관련 되어 있는 부분을 찾습니다.\n",
    "vector_store = FAISS.from_documents(docs, cached_embeddings)\n",
    "# print(len(vector_store.similarity_search(\"Aaronson 은 유죄인가요?\")))\n",
    "\n",
    "# 4. vecctor store의 값을 통해 관련된 document를 가져와 propmpt에 참조용으로 전달합니다.(Retriever) \n",
    "# + memory에서 예시를 가져옵니다. (memory_key=> history)\n",
    "retriever = vector_store.as_retriever()\n",
    "prompt = ChatPromptTemplate.from_messages(\n",
    "    [\n",
    "        (\"system\",\n",
    "         \"당신은 유용한 도우미입니다. 아래 제공된 문맥만을 사용하여 질문에 답하세요. 답을 모를 경우, 모른다고 말하세요. 답을 지어내지 마세요:\\n\\n{context}\"),\n",
    "        MessagesPlaceholder(variable_name=\"history\"),\n",
    "        (\"human\", \"{question}\")\n",
    "    ]\n",
    ")\n",
    "\n",
    "# 5. chain 작성 + invoke (체인 실행)\n",
    "chat = ChatOpenAI(temperature=0.1)\n",
    "\n",
    "chain = {\n",
    "    \"context\": retriever,\n",
    "    \"question\": RunnablePassthrough(),\n",
    "    \"history\": load_memory\n",
    "} | prompt | chat\n",
    "\n",
    "# chain 실행 함수, 메모리에 질문 답변을 저장해 둡니다.\n",
    "def invoke_chain(question):\n",
    "    result = chain.invoke(question)\n",
    "    memory.save_context({\"input\": question}, {\"output\": result.content})\n",
    "    return result.content"
   ]
  },
  {
   "cell_type": "code",
   "execution_count": 2,
   "metadata": {},
   "outputs": [
    {
     "data": {
      "text/plain": [
       "'네, Jones, Aaronson, 그리고 Rutherford은 그들이 기소된 범죄로 유죄 판결을 받았습니다.'"
      ]
     },
     "execution_count": 2,
     "metadata": {},
     "output_type": "execute_result"
    }
   ],
   "source": [
    "invoke_chain(\"Aaronson 은 유죄인가요?\")"
   ]
  },
  {
   "cell_type": "code",
   "execution_count": 3,
   "metadata": {},
   "outputs": [
    {
     "data": {
      "text/plain": [
       "'그가 테이블에 쓴 메시지는 \"Under the spreading chestnut tree I sold you and you sold me\" 입니다.'"
      ]
     },
     "execution_count": 3,
     "metadata": {},
     "output_type": "execute_result"
    }
   ],
   "source": [
    "invoke_chain(\"그가 테이블에 어떤 메시지를 썼나요?\")"
   ]
  },
  {
   "cell_type": "code",
   "execution_count": 4,
   "metadata": {},
   "outputs": [
    {
     "data": {
      "text/plain": [
       "'Julia는 주인공과 함께 자유롭고 함께 있을 때보다 더 사랑스러워 보였던 여자입니다.'"
      ]
     },
     "execution_count": 4,
     "metadata": {},
     "output_type": "execute_result"
    }
   ],
   "source": [
    "invoke_chain(\"Julia 는 누구인가요?\")"
   ]
  },
  {
   "cell_type": "code",
   "execution_count": 5,
   "metadata": {},
   "outputs": [
    {
     "data": {
      "text/plain": [
       "'네, Jones, Aaronson, 그리고 Rutherford은 그들이 기소된 범죄로 유죄 판결을 받았습니다.'"
      ]
     },
     "execution_count": 5,
     "metadata": {},
     "output_type": "execute_result"
    }
   ],
   "source": [
    "invoke_chain(\"Aaronson 은 유죄인가요?\")"
   ]
  },
  {
   "cell_type": "code",
   "execution_count": 6,
   "metadata": {},
   "outputs": [
    {
     "data": {
      "text/plain": [
       "ChatPromptValue(messages=[SystemMessage(content='당신은 유용한 도우미입니다. 아래 제공된 문맥만을 사용하여 질문에 답하세요. 답을 모를 경우, 모른다고 말하세요. 답을 지어내지 마세요:\\n\\n[Document(page_content=\\'He accepted everything. The past was alterable. The past never had been altered. Oceania was at war with Eastasia. Oceania had always been at war with Eastasia. Jones, Aaronson, and Rutherford were guilty of the crimes they were charged with. He had never seen the photograph that disproved their guilt. It had never existed, he had invented it. He remembered remembering contrary things, but those were false memories, products of self-deception. How easy it all was! Only surrender, and everything else followed. It was like swimming against a current that swept you backwards however hard you struggled, and then suddenly deciding to turn round and go with the current instead of opposing it. Nothing had changed except your own attitude: the predestined thing happened in any case. He hardly knew why he had ever rebelled. Everything was easy, except----!\\', metadata={\\'source\\': \\'../files/document.txt\\'}), Document(page_content=\\'\\\\\\'As you lie there,\\\\\\' said O\\\\\\'Brien, \\\\\\'you have often wondered--you have even asked me--why the Ministry of Love should expend so much time and trouble on you. And when you were free you were puzzled by what was essentially the same question. You could grasp the mechanics of the Society you lived in, but not its underlying motives. Do you remember writing in your diary, \"I understand HOW: I do not understand WHY\"? It was when you thought about \"why\" that you doubted your own sanity. You have read THE BOOK, Goldstein\\\\\\'s book, or parts of it, at least. Did it tell you anything that you did not know already?\\\\\\'\\', metadata={\\'source\\': \\'../files/document.txt\\'}), Document(page_content=\"\\'Under the spreading chestnut tree I sold you and you sold me----\\'\\\\n\\\\nThe tears welled up in his eyes. A passing waiter noticed that his glass was empty and came back with the gin bottle.\", metadata={\\'source\\': \\'../files/document.txt\\'}), Document(page_content=\\'His interest flagged again. He drank another mouthful of gin, picked up the white knight and made a tentative move. Check. But it was evidently not the right move, because----\\\\n\\\\nUncalled, a memory floated into his mind. He saw a candle-lit room with a vast white-counterpaned bed, and himself, a boy of nine or ten, sitting on the floor, shaking a dice-box, and laughing excitedly. His mother was sitting opposite him and also laughing.\\', metadata={\\'source\\': \\'../files/document.txt\\'})]'), HumanMessage(content='Aaronson 은 유죄인가요?'), AIMessage(content='네, Jones, Aaronson, 그리고 Rutherford은 그들이 기소된 범죄로 유죄 판결을 받았습니다.'), HumanMessage(content='그가 테이블에 어떤 메시지를 썼나요?'), AIMessage(content='그가 테이블에 쓴 메시지는 \"Under the spreading chestnut tree I sold you and you sold me\" 입니다.'), HumanMessage(content='Julia 는 누구인가요?'), AIMessage(content='Julia는 주인공과 함께 자유롭고 함께 있을 때보다 더 사랑스러워 보였던 여자입니다.'), HumanMessage(content='Aaronson 은 유죄인가요?'), AIMessage(content='네, Jones, Aaronson, 그리고 Rutherford은 그들이 기소된 범죄로 유죄 판결을 받았습니다.'), HumanMessage(content='Aaronson 은 유죄인가요?')])"
      ]
     },
     "execution_count": 6,
     "metadata": {},
     "output_type": "execute_result"
    }
   ],
   "source": [
    "# prompt 가 재대로 작동 하고 있는지 확인\n",
    "chain = {\n",
    "    \"context\": retriever,\n",
    "    \"question\": RunnablePassthrough(),\n",
    "    \"history\": load_memory\n",
    "} | prompt\n",
    "\n",
    "chain.invoke(\"Aaronson 은 유죄인가요?\")"
   ]
  },
  {
   "cell_type": "code",
   "execution_count": 7,
   "metadata": {},
   "outputs": [
    {
     "name": "stdout",
     "output_type": "stream",
     "text": [
      "[HumanMessage(content='Aaronson 은 유죄인가요?'), AIMessage(content='네, Jones, Aaronson, 그리고 Rutherford은 그들이 기소된 범죄로 유죄 판결을 받았습니다.'), HumanMessage(content='그가 테이블에 어떤 메시지를 썼나요?'), AIMessage(content='그가 테이블에 쓴 메시지는 \"Under the spreading chestnut tree I sold you and you sold me\" 입니다.'), HumanMessage(content='Julia 는 누구인가요?'), AIMessage(content='Julia는 주인공과 함께 자유롭고 함께 있을 때보다 더 사랑스러워 보였던 여자입니다.'), HumanMessage(content='Aaronson 은 유죄인가요?'), AIMessage(content='네, Jones, Aaronson, 그리고 Rutherford은 그들이 기소된 범죄로 유죄 판결을 받았습니다.')]\n"
     ]
    }
   ],
   "source": [
    "print(load_memory(any))"
   ]
  }
 ],
 "metadata": {
  "kernelspec": {
   "display_name": "env",
   "language": "python",
   "name": "python3"
  },
  "language_info": {
   "codemirror_mode": {
    "name": "ipython",
    "version": 3
   },
   "file_extension": ".py",
   "mimetype": "text/x-python",
   "name": "python",
   "nbconvert_exporter": "python",
   "pygments_lexer": "ipython3",
   "version": "3.11.7"
  }
 },
 "nbformat": 4,
 "nbformat_minor": 2
}
