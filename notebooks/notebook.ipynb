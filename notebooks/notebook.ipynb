{
 "cells": [
  {
   "cell_type": "code",
   "execution_count": null,
   "metadata": {},
   "outputs": [
    {
     "name": "stdout",
     "output_type": "stream",
     "text": [
      "\n",
      "\n",
      "\u001b[1m> Entering new AgentExecutor chain...\u001b[0m\n",
      "\u001b[32;1m\u001b[1;3m\n",
      "Invoking: `StockMarketSymbolSearchTool` with `{'query': 'Stock Market Symbol for Cloudflare Company'}`\n",
      "\n",
      "\n",
      "\u001b[0m\u001b[36;1m\u001b[1;3mReal-time Cloudflare stock price (NYSE: NET) ... Market Cap $38.64 Bil. Volume/Avg ... Cloudflare is a software company based in San Francisco, California, that offers security and web performance ... About NET. Cloudflare, Inc. operates as a cloud services provider that delivers a range of services to businesses worldwide. The company provides an integrated cloud-based security solution to secure a range of combination of platforms, including public cloud, private cloud, on-premise, software-as-a-service applications, and IoT devices; and website and application security products ... Get Cloudflare Inc (NET) real-time stock quotes, news, price and financial information from Reuters to inform your trading and investments Specifically, they have bought $0.00 in company stock and sold $61,334,450.00 in company stock. Percentage Held by Insiders. 12.83% of the stock of Cloudflare is held by insiders. A high percentage of insider ownership can be a sign of company health. Percentage Held by Institutions. 82.68% of the stock of Cloudflare is held by institutions. Market cap (market capitalization) is the total market value of a publicly traded company's outstanding shares. Cloudflare 's market cap is calculated by multiplying NET 's current stock price of $117.56 by NET 's total outstanding shares of 343,193,916 .\u001b[0m\u001b[32;1m\u001b[1;3mCloudflare의 주식 심볼은 NYSE: NET 입니다. Cloudflare는 샌프란시스코에 본사를 둔 소프트웨어 회사로, 보안 및 웹 성능을 제공합니다. Cloudflare, Inc.는 전 세계 기업에 다양한 서비스를 제공하는 클라우드 서비스 제공업체로 운영됩니다. 회사는 공개 클라우드, 사설 클라우드, 온프레미스, 소프트웨어 서비스 응용 프로그램 및 IoT 장치를 보호하기 위한 통합 클라우드 기반 보안 솔루션을 제공하며 웹 사이트 및 응용 프로그램 보안 제품을 제공합니다.\n",
      "\n",
      "Cloudflare의 시가총액은 386.4 억 달러이며, 현재 주가는 117.56 달러입니다. 회사의 주식 중 12.83%는 내부자들이 보유하고 있으며, 82.68%는 기관들이 보유하고 있습니다.\n",
      "\n",
      "투자 결정을 내리기 위해서는 추가적인 분석이 필요하지만, Cloudflare는 보안 및 클라우드 서비스 분야에서 선도적인 기업으로 평가되고 있습니다. 투자 여부를 결정할 때는 시장 조건과 개인적인 투자 목표를 고려해야 합니다.\u001b[0m\n",
      "\n",
      "\u001b[1m> Finished chain.\u001b[0m\n"
     ]
    },
    {
     "data": {
      "text/plain": [
       "{'input': 'Cloudflare의 주식에 대한 정보를 주고 그게 좋은 투자인지에 대해 분석해줘. 그리고 주식 심볼이 무엇인지 알려줘.',\n",
       " 'output': 'Cloudflare의 주식 심볼은 NYSE: NET 입니다. Cloudflare는 샌프란시스코에 본사를 둔 소프트웨어 회사로, 보안 및 웹 성능을 제공합니다. Cloudflare, Inc.는 전 세계 기업에 다양한 서비스를 제공하는 클라우드 서비스 제공업체로 운영됩니다. 회사는 공개 클라우드, 사설 클라우드, 온프레미스, 소프트웨어 서비스 응용 프로그램 및 IoT 장치를 보호하기 위한 통합 클라우드 기반 보안 솔루션을 제공하며 웹 사이트 및 응용 프로그램 보안 제품을 제공합니다.\\n\\nCloudflare의 시가총액은 386.4 억 달러이며, 현재 주가는 117.56 달러입니다. 회사의 주식 중 12.83%는 내부자들이 보유하고 있으며, 82.68%는 기관들이 보유하고 있습니다.\\n\\n투자 결정을 내리기 위해서는 추가적인 분석이 필요하지만, Cloudflare는 보안 및 클라우드 서비스 분야에서 선도적인 기업으로 평가되고 있습니다. 투자 여부를 결정할 때는 시장 조건과 개인적인 투자 목표를 고려해야 합니다.'}"
      ]
     },
     "execution_count": 1,
     "metadata": {},
     "output_type": "execute_result"
    }
   ],
   "source": [
    "from langchain.chat_models import ChatOpenAI\n",
    "from langchain.tools import StructuredTool, Tool, BaseTool\n",
    "from langchain.agents import initialize_agent, AgentType\n",
    "from pydantic import BaseModel, Field\n",
    "from typing import Type\n",
    "from langchain.utilities import DuckDuckGoSearchAPIWrapper\n",
    "\n",
    "llm = ChatOpenAI(temperature=0.1)\n",
    "\n",
    "\n",
    "class StockMarketSymbolSearchToolArgsSchema(BaseModel):\n",
    "    query: str = Field(description=\"The query you will search for\")\n",
    "\n",
    "\n",
    "class StockMarketSymbolSearchTool(BaseTool):\n",
    "    name = \"StockMarketSymbolSearchTool\"\n",
    "    description = \"\"\"\n",
    "    Use this tool to find stock market symbol for a company.\n",
    "    It takes a query as an argument.\n",
    "    Example query: Stock MArket Symbol for Apple Company.\n",
    "    \"\"\"\n",
    "\n",
    "    args_schema: Type[StockMarketSymbolSearchToolArgsSchema] = StockMarketSymbolSearchToolArgsSchema\n",
    "\n",
    "    def _run(self, query):\n",
    "        ddg = DuckDuckGoSearchAPIWrapper()\n",
    "        return ddg.run(query)\n",
    "\n",
    "\n",
    "agnet = initialize_agent(\n",
    "    llm=llm,\n",
    "    verbose=True,\n",
    "    agent=AgentType.OPENAI_FUNCTIONS,\n",
    "    tools=[\n",
    "        StockMarketSymbolSearchTool(),\n",
    "    ],\n",
    ")\n",
    "\n",
    "# LLM이 실수를 일으키는 prompt\n",
    "prompt = \"Cloudflare의 주식에 대한 정보를 주고 그게 좋은 투자인지에 대해 분석해줘. 그리고 주식 심볼이 무엇인지 알려줘.\"\n",
    "\n",
    "agnet.invoke(prompt)\n",
    "\n",
    "# pip install --upgrade --quiet duckduckgo-search"
   ]
  }
 ],
 "metadata": {
  "kernelspec": {
   "display_name": "env",
   "language": "python",
   "name": "python3"
  },
  "language_info": {
   "codemirror_mode": {
    "name": "ipython",
    "version": 3
   },
   "file_extension": ".py",
   "mimetype": "text/x-python",
   "name": "python",
   "nbconvert_exporter": "python",
   "pygments_lexer": "ipython3",
   "version": "3.11.7"
  }
 },
 "nbformat": 4,
 "nbformat_minor": 2
}
