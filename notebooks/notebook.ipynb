{
 "cells": [
  {
   "cell_type": "code",
   "execution_count": 61,
   "metadata": {},
   "outputs": [],
   "source": [
    "from langchain.chat_models import ChatOpenAI\n",
    "from langchain.prompts import PromptTemplate, ChatPromptTemplate\n",
    "from langchain.callbacks import StreamingStdOutCallbackHandler\n",
    "\n",
    "chat = ChatOpenAI(\n",
    "    temperature=0.1,\n",
    "    streaming=True,\n",
    "    callbacks=[ \n",
    "        StreamingStdOutCallbackHandler(),\n",
    "    ]\n",
    ")"
   ]
  },
  {
   "cell_type": "code",
   "execution_count": 63,
   "metadata": {},
   "outputs": [],
   "source": [
    "chef_prompt = ChatPromptTemplate.from_messages(\n",
    "    [\n",
    "        (\"system\", \"You are a world-class international chef. You create easy to follow recipies for any type of cuisine with easy to find ingredients.\"),\n",
    "        (\"human\", \"I want to cook {cuisine} food.\")\n",
    "    ]\n",
    ")\n",
    "\n",
    "chef_chain = chef_prompt | chat"
   ]
  },
  {
   "cell_type": "code",
   "execution_count": 64,
   "metadata": {},
   "outputs": [],
   "source": [
    "# 생성된 레시피를 채식으로 변경하는 prompt (대체품이 없다면 레시피를 모른다 말하세요 -> 할루시네이션 방지를 위한 프롬포트)\n",
    "veg_chef_prompt = ChatPromptTemplate.from_messages(\n",
    "    [\n",
    "        (\"system\", \"You are a vegetarian chef specialized on making traditional recipes vegetarian. You find alternative ingredients and explain their preparation. You don't radically modify the recipe. If there is no alternative for a food just say you don't know how to recipe it.\"),\n",
    "        (\"human\", \"{recipe}\")\n",
    "    ]\n",
    ")\n",
    "veg_chain = veg_chef_prompt | chat"
   ]
  },
  {
   "cell_type": "code",
   "execution_count": 66,
   "metadata": {},
   "outputs": [
    {
     "name": "stdout",
     "output_type": "stream",
     "text": [
      "제육볶음 (Jeyuk Bokkeum) is a popular Korean dish made with thinly sliced pork belly stir-fried with vegetables in a spicy and savory sauce. Here's a simple recipe for you to try at home:\n",
      "\n",
      "Ingredients:\n",
      "- 500g pork belly, thinly sliced\n",
      "- 1 onion, sliced\n",
      "- 1 carrot, julienned\n",
      "- 3-4 green onions, chopped\n",
      "- 4 cloves of garlic, minced\n",
      "- 2 tbsp soy sauce\n",
      "- 1 tbsp gochujang (Korean red chili paste)\n",
      "- 1 tbsp gochugaru (Korean red chili flakes)\n",
      "- 1 tbsp sugar\n",
      "- 1 tbsp sesame oil\n",
      "- 1 tbsp vegetable oil\n",
      "- Sesame seeds for garnish\n",
      "- Cooked rice, to serve\n",
      "\n",
      "Instructions:\n",
      "1. In a bowl, mix together soy sauce, gochujang, gochugaru, sugar, and sesame oil to make the marinade.\n",
      "2. Add the sliced pork belly to the marinade and mix well. Let it marinate for at least 30 minutes.\n",
      "3. Heat vegetable oil in a large pan or wok over medium-high heat.\n",
      "4. Add the minced garlic and stir-fry for about 30 seconds until fragrant.\n",
      "5. Add the marinated pork belly and stir-fry for 5-7 minutes until the pork is cooked through.\n",
      "6. Add the sliced onion, julienned carrot, and chopped green onions to the pan. Stir-fry for another 3-4 minutes until the vegetables are tender.\n",
      "7. Taste and adjust the seasoning if needed.\n",
      "8. Remove from heat and garnish with sesame seeds.\n",
      "9. Serve hot with steamed rice.\n",
      "\n",
      "Enjoy your homemade 제육볶음!To make a vegetarian version of 제육볶음 (Jeyuk Bokkeum), you can substitute the pork belly with a plant-based alternative such as seitan or tempeh. Here's how you can adapt the recipe:\n",
      "\n",
      "Ingredients:\n",
      "- 500g plant-based protein (seitan or tempeh), thinly sliced\n",
      "- 1 onion, sliced\n",
      "- 1 carrot, julienned\n",
      "- 3-4 green onions, chopped\n",
      "- 4 cloves of garlic, minced\n",
      "- 2 tbsp soy sauce\n",
      "- 1 tbsp gochujang (Korean red chili paste)\n",
      "- 1 tbsp gochugaru (Korean red chili flakes)\n",
      "- 1 tbsp sugar\n",
      "- 1 tbsp sesame oil\n",
      "- 1 tbsp vegetable oil\n",
      "- Sesame seeds for garnish\n",
      "- Cooked rice, to serve\n",
      "\n",
      "Instructions:\n",
      "1. In a bowl, mix together soy sauce, gochujang, gochugaru, sugar, and sesame oil to make the marinade.\n",
      "2. Add the sliced plant-based protein to the marinade and mix well. Let it marinate for at least 30 minutes.\n",
      "3. Heat vegetable oil in a large pan or wok over medium-high heat.\n",
      "4. Add the minced garlic and stir-fry for about 30 seconds until fragrant.\n",
      "5. Add the marinated plant-based protein and stir-fry for 5-7 minutes until it is cooked through.\n",
      "6. Add the sliced onion, julienned carrot, and chopped green onions to the pan. Stir-fry for another 3-4 minutes until the vegetables are tender.\n",
      "7. Taste and adjust the seasoning if needed.\n",
      "8. Remove from heat and garnish with sesame seeds.\n",
      "9. Serve hot with steamed rice.\n",
      "\n",
      "Enjoy your vegetarian version of 제육볶음!"
     ]
    },
    {
     "data": {
      "text/plain": [
       "AIMessageChunk(content=\"To make a vegetarian version of 제육볶음 (Jeyuk Bokkeum), you can substitute the pork belly with a plant-based alternative such as seitan or tempeh. Here's how you can adapt the recipe:\\n\\nIngredients:\\n- 500g plant-based protein (seitan or tempeh), thinly sliced\\n- 1 onion, sliced\\n- 1 carrot, julienned\\n- 3-4 green onions, chopped\\n- 4 cloves of garlic, minced\\n- 2 tbsp soy sauce\\n- 1 tbsp gochujang (Korean red chili paste)\\n- 1 tbsp gochugaru (Korean red chili flakes)\\n- 1 tbsp sugar\\n- 1 tbsp sesame oil\\n- 1 tbsp vegetable oil\\n- Sesame seeds for garnish\\n- Cooked rice, to serve\\n\\nInstructions:\\n1. In a bowl, mix together soy sauce, gochujang, gochugaru, sugar, and sesame oil to make the marinade.\\n2. Add the sliced plant-based protein to the marinade and mix well. Let it marinate for at least 30 minutes.\\n3. Heat vegetable oil in a large pan or wok over medium-high heat.\\n4. Add the minced garlic and stir-fry for about 30 seconds until fragrant.\\n5. Add the marinated plant-based protein and stir-fry for 5-7 minutes until it is cooked through.\\n6. Add the sliced onion, julienned carrot, and chopped green onions to the pan. Stir-fry for another 3-4 minutes until the vegetables are tender.\\n7. Taste and adjust the seasoning if needed.\\n8. Remove from heat and garnish with sesame seeds.\\n9. Serve hot with steamed rice.\\n\\nEnjoy your vegetarian version of 제육볶음!\")"
      ]
     },
     "execution_count": 66,
     "metadata": {},
     "output_type": "execute_result"
    }
   ],
   "source": [
    "final_chain = {\"recipe\": chef_chain} | veg_chain\n",
    "\n",
    "final_chain.invoke({\n",
    "    \"cuisine\": \"제육볶음\"\n",
    "})"
   ]
  }
 ],
 "metadata": {
  "kernelspec": {
   "display_name": "env",
   "language": "python",
   "name": "python3"
  },
  "language_info": {
   "codemirror_mode": {
    "name": "ipython",
    "version": 3
   },
   "file_extension": ".py",
   "mimetype": "text/x-python",
   "name": "python",
   "nbconvert_exporter": "python",
   "pygments_lexer": "ipython3",
   "version": "3.11.7"
  }
 },
 "nbformat": 4,
 "nbformat_minor": 2
}
