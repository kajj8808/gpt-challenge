{
 "cells": [
  {
   "cell_type": "code",
   "execution_count": null,
   "metadata": {},
   "outputs": [
    {
     "data": {
      "text/plain": [
       "'한국과 일본 사이의 거리는 대략 1000km 정도입니다. 제 이름은 AI 어시스턴트입니다. 궁금한 것이 있으시면 언제든지 물어보세요.'"
      ]
     },
     "execution_count": 13,
     "metadata": {},
     "output_type": "execute_result"
    }
   ],
   "source": [
    "from langchain.chat_models import ChatOpenAI\n",
    "from langchain.prompts import PromptTemplate, ChatPromptTemplate\n",
    "\n",
    "chat = ChatOpenAI(temperature=0.1)\n",
    "\n",
    "template = PromptTemplate.from_template(\n",
    "    \"{country_a}와 {country_b}사이의 거리는 어떻게 되나요? 그리고 당신의 이름은 뭔가요?\"\n",
    ")\n",
    "prompt = template.format(country_a=\"한국\", country_b=\"일본\")\n",
    "\n",
    "chat.predict(prompt)"
   ]
  },
  {
   "cell_type": "code",
   "execution_count": null,
   "metadata": {},
   "outputs": [
    {
     "data": {
      "text/plain": [
       "AIMessage(content='한국과 일본 사이의 거리는 대략 900km입니다. 제 이름은 소크라테스입니다.')"
      ]
     },
     "execution_count": 27,
     "metadata": {},
     "output_type": "execute_result"
    }
   ],
   "source": [
    "\n",
    "template = ChatPromptTemplate.from_messages(\n",
    "    [\n",
    "        (\"system\", \"당신은 지리 전문가입니다. 그리고 당신은 {language}로만 답합니다.\"),\n",
    "        (\"ai\", \"Ciao, mi chiamo {name}!\"),\n",
    "        (\"human\", \"{country_a}와 {country_b}사이의 거리는 어떻게 되나요? 그리고 당신의 이름은 뭔가요?\")\n",
    "    ],\n",
    ")\n",
    "\n",
    "\n",
    "prompt = template.format_messages(\n",
    "    language=\"이탈리아어\",\n",
    "    name=\"Socrates\",\n",
    "    country_a=\"한국\",\n",
    "    country_b=\"일본\"\n",
    ")\n",
    "\n",
    "chat.predict_messages(prompt)"
   ]
  }
 ],
 "metadata": {
  "kernelspec": {
   "display_name": "env",
   "language": "python",
   "name": "python3"
  },
  "language_info": {
   "codemirror_mode": {
    "name": "ipython",
    "version": 3
   },
   "file_extension": ".py",
   "mimetype": "text/x-python",
   "name": "python",
   "nbconvert_exporter": "python",
   "pygments_lexer": "ipython3",
   "version": "3.11.7"
  }
 },
 "nbformat": 4,
 "nbformat_minor": 2
}
