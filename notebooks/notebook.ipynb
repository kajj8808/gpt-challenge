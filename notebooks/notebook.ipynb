{
 "cells": [
  {
   "cell_type": "code",
   "execution_count": 112,
   "metadata": {},
   "outputs": [],
   "source": [
    "from langchain.chat_models import ChatOpenAI\n",
    "from langchain.callbacks import StreamingStdOutCallbackHandler\n",
    "from langchain.prompts import ChatPromptTemplate\n",
    "\n",
    "chat = ChatOpenAI(\n",
    "    model=\"gpt-3.5-turbo\",\n",
    "    temperature=0.1,\n",
    "    streaming=True,\n",
    "    callbacks=[StreamingStdOutCallbackHandler()]\n",
    ")"
   ]
  },
  {
   "cell_type": "code",
   "execution_count": null,
   "metadata": {},
   "outputs": [],
   "source": [
    "poet_prompt = ChatPromptTemplate.from_messages([\n",
    "    (\"system\", \"당신은 프로그래밍 언어에 대한 시를 쓰는 시인입니다. 주어진 언어를 주제로 시를 작성해주세요.\"),\n",
    "    (\"human\", \"{theme}\"),\n",
    "])\n",
    "\n",
    "poet_chain = poet_prompt | chat"
   ]
  },
  {
   "cell_type": "code",
   "execution_count": 90,
   "metadata": {},
   "outputs": [],
   "source": [
    "poetry_explainer_prompt = ChatPromptTemplate.from_messages([\n",
    "    (\"system\", \"당신은 문학 전문가입니다. 주어진 시를 분석하고 설명해주세요.\"),\n",
    "    (\"human\", \"{poem}\")\n",
    "])\n",
    "\n",
    "poetry_explainer_chain = poetry_explainer_prompt | chat"
   ]
  },
  {
   "cell_type": "code",
   "execution_count": 129,
   "metadata": {},
   "outputs": [
    {
     "name": "stdout",
     "output_type": "stream",
     "text": [
      "파이썬이란 이름으로 불리는,\n",
      "코드의 세계를 열어주는,\n",
      "간결하고 강력한 프로그래밍 언어.\n",
      "\n",
      "들여쓰기로 구조를 만들고,\n",
      "모듈과 패키지로 확장하며,\n",
      "문법은 쉽고 읽기 쉽게.\n",
      "\n",
      "데이터 분석, 인공지능,\n",
      "웹 개발, 자동화까지,\n",
      "다양한 분야에서 활약하는 파이썬.\n",
      "\n",
      "세상을 바꾸는 코드 한 줄,\n",
      "파이썬이 그 빛을 비춰준다.주어진 시는 파이썬 프로그래밍 언어에 대한 찬사와 감탄을 담은 시입니다. 시인은 파이썬이라는 이름으로 불리는 이 프로그래밍 언어가 코드의 세계를 열어주며 간결하고 강력한 언어라고 소개하고 있습니다. 또한 들여쓰기로 구조를 만들고 모듈과 패키지로 확장하며, 문법이 쉽고 읽기 쉽다고 언급하고 있습니다.\n",
      "\n",
      "시인은 파이썬이 데이터 분석, 인공지능, 웹 개발, 자동화 등 다양한 분야에서 활약하며 세상을 바꾸는 코드 한 줄을 작성하는 데 도움을 주고 있다고 표현하고 있습니다. 마지막으로 시인은 파이썬이 그 빛을 비춰 세상을 변화시키는 역할을 한다고 강조하며 시를 마무리하고 있습니다. 이 시는 파이썬이라는 프로그래밍 언어의 다양한 장점과 가능성을 감탄하며 표현한 것으로 해석될 수 있습니다."
     ]
    }
   ],
   "source": [
    "final_chain = {\"poem\":  poet_chain} | poetry_explainer_chain\n",
    "\n",
    "result = final_chain.invoke({\n",
    "    \"theme\": \"파이썬\"\n",
    "})"
   ]
  }
 ],
 "metadata": {
  "kernelspec": {
   "display_name": "env",
   "language": "python",
   "name": "python3"
  },
  "language_info": {
   "codemirror_mode": {
    "name": "ipython",
    "version": 3
   },
   "file_extension": ".py",
   "mimetype": "text/x-python",
   "name": "python",
   "nbconvert_exporter": "python",
   "pygments_lexer": "ipython3",
   "version": "3.11.7"
  }
 },
 "nbformat": 4,
 "nbformat_minor": 2
}
