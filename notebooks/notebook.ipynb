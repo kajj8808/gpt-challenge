{
 "cells": [
  {
   "cell_type": "code",
   "execution_count": 1,
   "metadata": {},
   "outputs": [
    {
     "data": {
      "text/plain": [
       "AIMessage(content='= $4923.38')"
      ]
     },
     "execution_count": 1,
     "metadata": {},
     "output_type": "execute_result"
    }
   ],
   "source": [
    "from langchain.chat_models import ChatOpenAI\n",
    "\n",
    "llm = ChatOpenAI(temperature=0.1)\n",
    "\n",
    "# LLM이 실수를 일으키는 prompt\n",
    "prompt = \"Cost of $355.39 + $924.87 + $721.2 + $1940.29 + $573.63 + $65.72 + $35.00 + $552.00 + $76.16 + $29.12\"\n",
    "\n",
    "llm.invoke(prompt)"
   ]
  },
  {
   "cell_type": "code",
   "execution_count": 6,
   "metadata": {},
   "outputs": [
    {
     "name": "stdout",
     "output_type": "stream",
     "text": [
      "\n",
      "\n",
      "\u001b[1m> Entering new AgentExecutor chain...\u001b[0m\n",
      "\u001b[32;1m\u001b[1;3mI need to add up all the given numbers to find the total cost.\n",
      "Action: sum caculator\n",
      "Action Input: 355.39, 924.87\u001b[0m\n",
      "Observation: \u001b[36;1m\u001b[1;3m355.39 924.87\u001b[0m\n",
      "Thought:\u001b[32;1m\u001b[1;3mI need to continue adding the remaining numbers to the total.\n",
      "Action: sum caculator\n",
      "Action Input: 721.2, 1940.29\u001b[0m\n",
      "Observation: \u001b[36;1m\u001b[1;3m721.2 1940.29\u001b[0m\n",
      "Thought:\u001b[32;1m\u001b[1;3mI need to keep adding the remaining numbers to the total.\n",
      "Action: sum caculator\n",
      "Action Input: 573.63, 65.72\u001b[0m\n",
      "Observation: \u001b[36;1m\u001b[1;3m573.63 65.72\u001b[0m\n",
      "Thought:\u001b[32;1m\u001b[1;3mI need to add the last remaining numbers to the total.\n",
      "Action: sum caculator\n",
      "Action Input: 35.00, 552.00\u001b[0m\n",
      "Observation: \u001b[36;1m\u001b[1;3m35.00 552.00\u001b[0m\n",
      "Thought:\u001b[32;1m\u001b[1;3mI need to add the last two numbers to get the final total cost.\n",
      "Action: sum caculator\n",
      "Action Input: 76.16, 29.12\u001b[0m\n",
      "Observation: \u001b[36;1m\u001b[1;3m76.16 29.12\u001b[0m\n",
      "Thought:\u001b[32;1m\u001b[1;3mI now know the final answer\n",
      "Final Answer: $5,413.47\u001b[0m\n",
      "\n",
      "\u001b[1m> Finished chain.\u001b[0m\n"
     ]
    },
    {
     "data": {
      "text/plain": [
       "{'input': 'Cost of $355.39 + $924.87 + $721.2 + $1940.29 + $573.63 + $65.72 + $35.00 + $552.00 + $76.16 + $29.12',\n",
       " 'output': '$5,413.47'}"
      ]
     },
     "execution_count": 6,
     "metadata": {},
     "output_type": "execute_result"
    }
   ],
   "source": [
    "from langchain.chat_models import ChatOpenAI\n",
    "from langchain.tools import StructuredTool, Tool\n",
    "from langchain.agents import initialize_agent, AgentType\n",
    "\n",
    "llm = ChatOpenAI(temperature=0.1)\n",
    "\n",
    "\n",
    "def plus(inputs):\n",
    "    a, b = inputs.split(\",\")\n",
    "    return float(a) + float(b)\n",
    "\n",
    "\n",
    "agnet = initialize_agent(\n",
    "    llm=llm,\n",
    "    verbose=True,\n",
    "    agent=AgentType.ZERO_SHOT_REACT_DESCRIPTION, tools=[\n",
    "        Tool.from_function(\n",
    "            func=plus,\n",
    "            name=\"sum caculator\",\n",
    "            description=\"두개의 숫자를 더하는 toll 입니다. 이 tool은 콤마(,)로 구분되어 있는 숫자를 쌍으로 보낼 때 이 툴을 사용하세요. \\n예시: 1,2\"\n",
    "        )\n",
    "    ])\n",
    "\n",
    "# LLM이 실수를 일으키는 prompt\n",
    "prompt = \"Cost of $355.39 + $924.87 + $721.2 + $1940.29 + $573.63 + $65.72 + $35.00 + $552.00 + $76.16 + $29.12\"\n",
    "\n",
    "agnet.invoke(prompt)"
   ]
  }
 ],
 "metadata": {
  "kernelspec": {
   "display_name": "env",
   "language": "python",
   "name": "python3"
  },
  "language_info": {
   "codemirror_mode": {
    "name": "ipython",
    "version": 3
   },
   "file_extension": ".py",
   "mimetype": "text/x-python",
   "name": "python",
   "nbconvert_exporter": "python",
   "pygments_lexer": "ipython3",
   "version": "3.11.7"
  }
 },
 "nbformat": 4,
 "nbformat_minor": 2
}
