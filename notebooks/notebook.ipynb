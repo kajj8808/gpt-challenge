{
 "cells": [
  {
   "cell_type": "code",
   "execution_count": null,
   "metadata": {},
   "outputs": [],
   "source": [
    "from langchain.chat_models import ChatOpenAI\n",
    "from langchain.callbacks import get_openai_callback\n",
    "from langchain.llms.openai import OpenAI\n",
    "\n",
    "\n",
    "chat = ChatOpenAI(\n",
    "    model=\"gpt-3.5-turbo\",\n",
    "    temperature=0.1,   \n",
    ")"
   ]
  },
  {
   "cell_type": "code",
   "execution_count": 8,
   "metadata": {},
   "outputs": [
    {
     "name": "stdout",
     "output_type": "stream",
     "text": [
      "\u001b[1mOpenAIChat\u001b[0m\n",
      "Params: {'model_name': 'gpt-3.5-turbo-16k', 'temperature': 0.1, 'max_tokens': 350, 'top_p': 1, 'frequency_penalty': 0, 'presence_penalty': 0, 'n': 1, 'request_timeout': None, 'logit_bias': {}}\n"
     ]
    },
    {
     "name": "stderr",
     "output_type": "stream",
     "text": [
      "/home/kajj8808/python/fullstack-gpt/env/lib/python3.11/site-packages/langchain/llms/openai.py:216: UserWarning: You are trying to use a chat model. This way of initializing it is no longer supported. Instead, please use: `from langchain.chat_models import ChatOpenAI`\n",
      "  warnings.warn(\n",
      "/home/kajj8808/python/fullstack-gpt/env/lib/python3.11/site-packages/langchain/llms/openai.py:811: UserWarning: You are trying to use a chat model. This way of initializing it is no longer supported. Instead, please use: `from langchain.chat_models import ChatOpenAI`\n",
      "  warnings.warn(\n"
     ]
    }
   ],
   "source": [
    "from langchain.llms.loading import load_llm\n",
    "llm = OpenAI(\n",
    "    temperature=0.1,\n",
    "    max_tokens=350,\n",
    "    model=\"gpt-3.5-turbo-16k\"\n",
    ")\n",
    "llm.save(\"model.json\")\n",
    "\n",
    "loaded_llm = load_llm(\"model.json\")\n",
    "print(loaded_llm)\n"
   ]
  },
  {
   "cell_type": "code",
   "execution_count": null,
   "metadata": {},
   "outputs": [
    {
     "name": "stdout",
     "output_type": "stream",
     "text": [
      "된장국을 끓이는 방법은 다음과 같습니다.\n",
      "\n",
      "재료:\n",
      "- 된장 2큰술\n",
      "- 물 4컵\n",
      "- 대파 1대\n",
      "- 마늘 2쪽\n",
      "- 고추 1개\n",
      "- 감자 1개\n",
      "- 무 100g\n",
      "- 양파 1/2개\n",
      "- 대파 1대\n",
      "- 소금 약간\n",
      "- 고춧가루 약간 (선택사항)\n",
      "\n",
      "1. 된장을 물에 풀어줍니다. 된장이 뭉쳐져 있을 경우 미리 물에 풀어주면 된장이 더 잘 풀립니다.\n",
      "\n",
      "2. 대파, 마늘, 고추를 송송 썰어줍니다. 감자, 무, 양파도 깍둑 썰어줍니다.\n",
      "\n",
      "3. 냄비에 물을 붓고 된장을 푼 물을 넣어줍니다. 대파, 마늘, 고추를 넣고 끓여줍니다.\n",
      "\n",
      "4. 끓기 시작하면 감자, 무, 양파를 넣고 중불로 줄여 끓여줍니다. 약 20분 정도 끓여주면 감자와 무가 익어 맛있는 된장국이 완성됩니다.\n",
      "\n",
      "5. 소금과 고춧가루로 간을 맞춰주고 대파를 송송 썰어서 고명으로 올려주면 더욱 맛있는 된장국이 완성됩니다.\n",
      "\n",
      "맛있는 된장국을 즐기세요! 라면을 끓이는 방법은 다음과 같습니다.\n",
      "\n",
      "1. 냄비에 물을 넣고 끓입니다. 라면의 양에 맞게 물을 넣어주세요.\n",
      "2. 물이 끓으면 라면 스프를 넣고 잘 풀어주세요.\n",
      "3. 라면 봉지 안의 면을 넣고 물이 다시 끓을 때까지 살짝 끓입니다.\n",
      "4. 라면이 끓으면서 면이 풀어질 때까지 끓입니다. 중간중간 젓가락으로 면을 풀어주세요.\n",
      "5. 면이 풀어지면 불을 끄고 그릇에 담아주세요.\n",
      "6. 고명이나 계란, 김 등을 올려 맛을 더해주세요.\n",
      "\n",
      "이렇게 간단하게 라면을 끓여 맛있게 즐기실 수 있습니다. 맛있는 라면 요리하세요! \n",
      "\n",
      "Tokens Used: 780\n",
      "\tPrompt Tokens: 38\n",
      "\tCompletion Tokens: 742\n",
      "Successful Requests: 2\n",
      "Total Cost (USD): $0.0015410000000000003\n"
     ]
    }
   ],
   "source": [
    "with get_openai_callback() as usage:\n",
    "    a = chat.predict(\"된장국 끓이는 방법!\")\n",
    "    b = chat.predict(\"라면 끓이는 방법!\")\n",
    "    print(a , b , \"\\n\")\n",
    "    print(usage.total_cost)"
   ]
  }
 ],
 "metadata": {
  "kernelspec": {
   "display_name": "env",
   "language": "python",
   "name": "python3"
  },
  "language_info": {
   "codemirror_mode": {
    "name": "ipython",
    "version": 3
   },
   "file_extension": ".py",
   "mimetype": "text/x-python",
   "name": "python",
   "nbconvert_exporter": "python",
   "pygments_lexer": "ipython3",
   "version": "3.11.7"
  }
 },
 "nbformat": 4,
 "nbformat_minor": 2
}
