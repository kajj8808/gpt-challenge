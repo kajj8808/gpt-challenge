{
 "cells": [
  {
   "cell_type": "code",
   "execution_count": 7,
   "metadata": {},
   "outputs": [
    {
     "name": "stderr",
     "output_type": "stream",
     "text": [
      "Created a chunk of size 1444, which is longer than the specified 1200\n",
      "Created a chunk of size 1251, which is longer than the specified 1200\n",
      "Created a chunk of size 1493, which is longer than the specified 1200\n",
      "Created a chunk of size 1458, which is longer than the specified 1200\n",
      "Created a chunk of size 1411, which is longer than the specified 1200\n",
      "Created a chunk of size 1417, which is longer than the specified 1200\n",
      "Created a chunk of size 1345, which is longer than the specified 1200\n",
      "Created a chunk of size 1339, which is longer than the specified 1200\n",
      "Created a chunk of size 1288, which is longer than the specified 1200\n",
      "Created a chunk of size 1444, which is longer than the specified 1200\n",
      "Created a chunk of size 1496, which is longer than the specified 1200\n"
     ]
    }
   ],
   "source": [
    "from langchain.document_loaders import UnstructuredFileLoader\n",
    "from langchain.text_splitter import CharacterTextSplitter\n",
    "from langchain.embeddings import OpenAIEmbeddings, CacheBackedEmbeddings\n",
    "from langchain.storage import LocalFileStore\n",
    "from langchain.vectorstores import Chroma , FAISS\n",
    "from langchain.prompts import ChatPromptTemplate, MessagesPlaceholder\n",
    "from langchain.chat_models import ChatOpenAI\n",
    "from langchain.schema.runnable import RunnablePassthrough, RunnableLambda\n",
    "from langchain.memory import ConversationBufferMemory\n",
    "\n",
    "# \n",
    "memory = ConversationBufferMemory(return_messages=True)\n",
    "\n",
    "def load_memory(_):\n",
    "    return memory.load_memory_variables({})[\"history\"]\n",
    "\n",
    "\n",
    "# 1. 파일 로드 (loader => UnstructuredFileLoader , spliter => CharacterTextSplitter)\n",
    "loader = UnstructuredFileLoader(\"../files/document.txt\")\n",
    "splitter = CharacterTextSplitter(\n",
    "    chunk_size=1200,\n",
    "    chunk_overlap=100,\n",
    ")\n",
    "docs = loader.load_and_split(\n",
    "    text_splitter=splitter,\n",
    ")\n",
    "\n",
    "# 2. Embedding + cache 작업 (vector를 매기는 작업 + local에 cache로 저장)\n",
    "cache_dir = LocalFileStore(\"../cache/\")\n",
    "embeddings = OpenAIEmbeddings()\n",
    "cached_embeddings = CacheBackedEmbeddings.from_bytes_store(\n",
    "    embeddings, cache_dir\n",
    ")\n",
    "\n",
    "# 3. vector store를 통해 prompt에 관련 되어 있는 부분을 찾습니다.\n",
    "vector_store = FAISS.from_documents(docs, cached_embeddings)\n",
    "# print(len(vector_store.similarity_search(\"Aaronson 은 유죄인가요?\")))\n",
    "\n",
    "# 4. vecctor store의 값을 통해 관련된 document를 가져와 propmpt에 참조용으로 전달합니다.(Retriever) \n",
    "# 4.5 memory에 대한 내용도 추가합니다.\n",
    "retriever = vector_store.as_retriever()\n",
    "prompt = ChatPromptTemplate.from_messages(\n",
    "    [\n",
    "        (\"system\",\n",
    "         \"당신은 유용한 도우미입니다. 아래 제공된 문맥만을 사용하여 질문에 답하세요. 답을 모를 경우, 모른다고 말하세요. 답을 지어내지 마세요:\\n\\n{context}\"),\n",
    "        MessagesPlaceholder(variable_name=\"history\"),\n",
    "        (\"human\", \"{question}\")\n",
    "    ]\n",
    ")\n",
    "\n",
    "# 5. chain 작성 + invoke (체인 실행)\n",
    "chat = ChatOpenAI(temperature=0.1)\n",
    "\n",
    "chain = {\n",
    "    \"context\": retriever,\n",
    "    \"question\": RunnablePassthrough(),\n",
    "    \"history\": load_memory\n",
    "} | prompt | chat\n",
    "\n",
    "# chain 실행 함수, 메모리에 질문 답변을 저장해 둡니다.\n",
    "def invoke_chain(question):\n",
    "    result = chain.invoke(question)\n",
    "    memory.save_context({\"input\": question}, {\"output\": result.content})\n",
    "    return result.content"
   ]
  },
  {
   "cell_type": "code",
   "execution_count": 2,
   "metadata": {},
   "outputs": [
    {
     "data": {
      "text/plain": [
       "'네, Jones, Aaronson, 그리고 Rutherford은 그들이 기소된 범죄로 유죄입니다.'"
      ]
     },
     "execution_count": 2,
     "metadata": {},
     "output_type": "execute_result"
    }
   ],
   "source": [
    "questions = [\"Aaronson 은 유죄인가요?\", \"그가 테이블에 어떤 메시지를 썼나요?\", \"Julia 는 누구인가요?\"]\n",
    "invoke_chain(\"Aaronson 은 유죄인가요?\")"
   ]
  },
  {
   "cell_type": "code",
   "execution_count": 3,
   "metadata": {},
   "outputs": [
    {
     "data": {
      "text/plain": [
       "'죄송합니다. 제가 제공받은 문맥에서는 Aaronson이 테이블에 어떤 메시지를 썼는지에 대한 정보가 없습니다.'"
      ]
     },
     "execution_count": 3,
     "metadata": {},
     "output_type": "execute_result"
    }
   ],
   "source": [
    "invoke_chain(\"그가 테이블에 어떤 메시지를 썼나요?\")"
   ]
  },
  {
   "cell_type": "code",
   "execution_count": 4,
   "metadata": {},
   "outputs": [
    {
     "data": {
      "text/plain": [
       "'Julia는 주인공과 관련된 인물로, 그의 사랑이자 도움이 필요한 상황에 있는 사람입니다.'"
      ]
     },
     "execution_count": 4,
     "metadata": {},
     "output_type": "execute_result"
    }
   ],
   "source": [
    "invoke_chain(\"Julia 는 누구인가요?\")"
   ]
  },
  {
   "cell_type": "code",
   "execution_count": 5,
   "metadata": {},
   "outputs": [
    {
     "data": {
      "text/plain": [
       "'네, Jones, Aaronson, 그리고 Rutherford은 그들이 기소된 범죄로 유죄입니다.'"
      ]
     },
     "execution_count": 5,
     "metadata": {},
     "output_type": "execute_result"
    }
   ],
   "source": [
    "invoke_chain(\"Aaronson 은 유죄인가요?\")"
   ]
  },
  {
   "cell_type": "code",
   "execution_count": 6,
   "metadata": {},
   "outputs": [
    {
     "data": {
      "text/plain": [
       "[HumanMessage(content='Aaronson 은 유죄인가요?'),\n",
       " AIMessage(content='네, Jones, Aaronson, 그리고 Rutherford은 그들이 기소된 범죄로 유죄입니다.'),\n",
       " HumanMessage(content='그가 테이블에 어떤 메시지를 썼나요?'),\n",
       " AIMessage(content='죄송합니다. 제가 제공받은 문맥에서는 Aaronson이 테이블에 어떤 메시지를 썼는지에 대한 정보가 없습니다.'),\n",
       " HumanMessage(content='Julia 는 누구인가요?'),\n",
       " AIMessage(content='Julia는 주인공과 관련된 인물로, 그의 사랑이자 도움이 필요한 상황에 있는 사람입니다.'),\n",
       " HumanMessage(content='Aaronson 은 유죄인가요?'),\n",
       " AIMessage(content='네, Jones, Aaronson, 그리고 Rutherford은 그들이 기소된 범죄로 유죄입니다.')]"
      ]
     },
     "execution_count": 6,
     "metadata": {},
     "output_type": "execute_result"
    }
   ],
   "source": [
    "load_memory(_)"
   ]
  }
 ],
 "metadata": {
  "kernelspec": {
   "display_name": "env",
   "language": "python",
   "name": "python3"
  },
  "language_info": {
   "codemirror_mode": {
    "name": "ipython",
    "version": 3
   },
   "file_extension": ".py",
   "mimetype": "text/x-python",
   "name": "python",
   "nbconvert_exporter": "python",
   "pygments_lexer": "ipython3",
   "version": "3.11.7"
  }
 },
 "nbformat": 4,
 "nbformat_minor": 2
}
